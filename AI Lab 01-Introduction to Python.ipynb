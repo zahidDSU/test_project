{
 "cells": [
  {
   "cell_type": "markdown",
   "metadata": {
    "id": "QxdMUQwuOfUZ"
   },
   "source": [
    "## **DHA Suffa University**\n",
    "## **Department of Computer Science**\n",
    "## **CS 31002L – Artificial Intelligence Lab**\n",
    "## **Spring 2023**\n",
    "\n",
    "\n",
    "---\n",
    "\n",
    "\n",
    "## ***Lab 01-Introduction to Python Basics***\n",
    "\n",
    "\n",
    "---\n",
    "### **Learning Objectives:**\n",
    "\n",
    "*   To learn and Implement Python Basics\n",
    "\n",
    "\n",
    "\n",
    "\n"
   ]
  },
  {
   "cell_type": "markdown",
   "metadata": {
    "id": "wdI9K1bDSrDt"
   },
   "source": [
    "###**Python Basics**\n",
    "####**Variables in Python**\n",
    "We can create a new Python variable by assigning a value to a label, using the = assignment operator.\n",
    "\n",
    "In this example we assign a string with the value \"Roger\" to the name label:"
   ]
  },
  {
   "cell_type": "code",
   "execution_count": 8,
   "metadata": {
    "colab": {
     "base_uri": "https://localhost:8080/"
    },
    "executionInfo": {
     "elapsed": 5,
     "status": "ok",
     "timestamp": 1678336330847,
     "user": {
      "displayName": "Aniqa Hussain",
      "userId": "16017010323278953300"
     },
     "user_tz": 480
    },
    "id": "jhnIXCBPPB5d",
    "outputId": "c7e91ccd-e6bb-4144-9119-da9a49810739"
   },
   "outputs": [
    {
     "name": "stdout",
     "output_type": "stream",
     "text": [
      "Roger\n",
      "9\n",
      "Arifa\n",
      "Zahid\n",
      "9\n"
     ]
    }
   ],
   "source": [
    "name = \"Roger\"\n",
    "age = 8\n",
    "age = 9\n",
    "print(name)\n",
    "print(age)\n",
    "print(\"Arifa\")\n",
    "print('Zahid')\n",
    "print(age)"
   ]
  },
  {
   "cell_type": "markdown",
   "metadata": {
    "id": "PJtqGldiS105"
   },
   "source": [
    "##**Expressions and statements in Python**\n",
    "\n",
    "\n",
    "We can expression any sort of code that returns a value. For example"
   ]
  },
  {
   "cell_type": "code",
   "execution_count": 13,
   "metadata": {
    "id": "gnAvlHDUT_sE"
   },
   "outputs": [],
   "source": [
    "1 + 1\n",
    "\"Roger\";"
   ]
  },
  {
   "cell_type": "markdown",
   "metadata": {
    "id": "FVXntNzyUEh1"
   },
   "source": [
    "A statement, on the other hand, is an operation on a value. For example these are 2 statements:"
   ]
  },
  {
   "cell_type": "code",
   "execution_count": 15,
   "metadata": {
    "id": "Jqz-5JfdUKWF"
   },
   "outputs": [
    {
     "name": "stdout",
     "output_type": "stream",
     "text": [
      "Roger\n"
     ]
    }
   ],
   "source": [
    "name = \"Roger\";\n",
    "print(name)"
   ]
  },
  {
   "cell_type": "markdown",
   "metadata": {
    "id": "DkFwB3TBUgw0"
   },
   "source": [
    "##**Comments**\n",
    "\n",
    "In a Python program, everything after a hash mark is ignored, and considered a comment:"
   ]
  },
  {
   "cell_type": "code",
   "execution_count": 17,
   "metadata": {
    "id": "2f8WtNDfUkMX"
   },
   "outputs": [
    {
     "name": "stdout",
     "output_type": "stream",
     "text": [
      "Congratulations you are eligible for CNIC\n"
     ]
    }
   ],
   "source": [
    "age = 25\n",
    "if (age>18):\n",
    "    print(\"Congratulations you are eligible for CNIC\")\n",
    "    \n",
    "else:\n",
    "    print(\"You are not Eligible for CNIC\")\n",
    "    "
   ]
  },
  {
   "cell_type": "markdown",
   "metadata": {
    "id": "RTsrUuKRUnMo"
   },
   "source": [
    "##**Indentation in Python**\n",
    "\n",
    "Indentation in Python is meaningful.\n",
    "\n",
    "You cannot indent randomly like this:"
   ]
  },
  {
   "cell_type": "code",
   "execution_count": 22,
   "metadata": {
    "id": "_T0YbhF3Uyln"
   },
   "outputs": [
    {
     "name": "stdout",
     "output_type": "stream",
     "text": [
      "['False', 'None', 'True', 'and', 'as', 'assert', 'async', 'await', 'break', 'class', 'continue', 'def', 'del', 'elif', 'else', 'except', 'finally', 'for', 'from', 'global', 'if', 'import', 'in', 'is', 'lambda', 'nonlocal', 'not', 'or', 'pass', 'raise', 'return', 'try', 'while', 'with', 'yield']\n"
     ]
    }
   ],
   "source": [
    "import keyword\n",
    "\n",
    "print(keyword.kwlist)"
   ]
  },
  {
   "cell_type": "markdown",
   "metadata": {
    "id": "C3jzlHigU1ML"
   },
   "source": [
    "Some other languages do not have meaningful whitespace, but in Python, indentation matters.\n",
    "\n",
    "In this case, if you try to run this program you would get a IndentationError: unexpected indent error, because indenting has a special meaning."
   ]
  },
  {
   "cell_type": "markdown",
   "metadata": {
    "id": "cJ2mWSeMU-TV"
   },
   "source": [
    "##**Data Types in Python**\n",
    "\n",
    "Python has several built-in types.\n",
    "\n",
    "If you create the name variable assigning it the value \"Roger\", automatically this variable now represents a String data type."
   ]
  },
  {
   "cell_type": "code",
   "execution_count": 23,
   "metadata": {
    "id": "LMEspB0jVH-g"
   },
   "outputs": [],
   "source": [
    "name = \"Roger\""
   ]
  },
  {
   "cell_type": "markdown",
   "metadata": {
    "id": "SwYlPdmaVTQd"
   },
   "source": [
    "You can check the type of a variable by using the type() function, passing the variable as an argument, and then comparing the result to str:"
   ]
  },
  {
   "cell_type": "code",
   "execution_count": 24,
   "metadata": {
    "id": "ZBZH2JA9VXT7"
   },
   "outputs": [
    {
     "data": {
      "text/plain": [
       "True"
      ]
     },
     "execution_count": 24,
     "metadata": {},
     "output_type": "execute_result"
    }
   ],
   "source": [
    "name = \"Roger\"\n",
    "type(name) == str #True"
   ]
  },
  {
   "cell_type": "markdown",
   "metadata": {
    "id": "mC60myxEVade"
   },
   "source": [
    "Or using isinstance():"
   ]
  },
  {
   "cell_type": "code",
   "execution_count": 25,
   "metadata": {
    "id": "JgYyvsU6VeKi"
   },
   "outputs": [
    {
     "data": {
      "text/plain": [
       "True"
      ]
     },
     "execution_count": 25,
     "metadata": {},
     "output_type": "execute_result"
    }
   ],
   "source": [
    "name = \"Roger\"\n",
    "isinstance(name, str) #True"
   ]
  },
  {
   "cell_type": "markdown",
   "metadata": {
    "id": "MGndVKPvVmvd"
   },
   "source": [
    "First, we have numbers. Integer numbers are represented using the int class. Floating point numbers (fractions) are of type float:"
   ]
  },
  {
   "cell_type": "code",
   "execution_count": 27,
   "metadata": {
    "id": "k22lxvsTVofS"
   },
   "outputs": [
    {
     "data": {
      "text/plain": [
       "True"
      ]
     },
     "execution_count": 27,
     "metadata": {},
     "output_type": "execute_result"
    }
   ],
   "source": [
    "age = 1\n",
    "type(age) == int #True"
   ]
  },
  {
   "cell_type": "code",
   "execution_count": 28,
   "metadata": {
    "id": "Mq26oc-kVrtW"
   },
   "outputs": [
    {
     "data": {
      "text/plain": [
       "True"
      ]
     },
     "execution_count": 28,
     "metadata": {},
     "output_type": "execute_result"
    }
   ],
   "source": [
    "fraction = 0.1\n",
    "type(fraction) == float #True"
   ]
  },
  {
   "cell_type": "markdown",
   "metadata": {
    "id": "5b4CeSvOWDsw"
   },
   "source": [
    "You can also convert from one type to another by using the class constructor. Python will try to determine the correct value, for example extracting a number from a string:"
   ]
  },
  {
   "cell_type": "code",
   "execution_count": 30,
   "metadata": {
    "id": "mgKhjM_YWFPh"
   },
   "outputs": [
    {
     "name": "stdout",
     "output_type": "stream",
     "text": [
      "20\n"
     ]
    }
   ],
   "source": [
    "#Type casting\n",
    "age = int(\"20\")\n",
    "print(age)"
   ]
  },
  {
   "cell_type": "markdown",
   "metadata": {
    "id": "DKPXW-haWILO"
   },
   "source": [
    "This is called casting. Of course this conversion might not always work depending on the value passed. If you write test instead of 20 in the above string, you'll get a ValueError: invalid literal for int() with base 10: 'test' error.\n",
    "\n",
    "Those are just the basics of types. We have a lot more types in Python:\n",
    "\n",
    "*   complex for complex numbers\n",
    "*   bool for booleans\n",
    "*   list for lists\n",
    "*   tuple for tuples\n",
    "*   range for ranges\n",
    "*   dict for dictionaries\n",
    "*   set for sets\n",
    "and more!\n",
    "\n",
    "##**Operators in Python**\n",
    "\n",
    "Python operators are symbols that we use to run operations upon values and variables.\n",
    "\n",
    "We can divide operators based on the kind of operation they perform:\n",
    "*  assignment operator\n",
    "*  arithmetic operators\n",
    "*  comparison operators\n",
    "*  logical operators\n",
    "*  bitwise operators\n",
    "plus some interesting ones like is and in.\n",
    "\n",
    "##**Assignment operator in Python**\n",
    "\n",
    "The assignment operator is used to assign a value to a variable:\n"
   ]
  },
  {
   "cell_type": "code",
   "execution_count": 31,
   "metadata": {
    "id": "3l9XKvtxXYrr"
   },
   "outputs": [],
   "source": [
    "age = 8\n",
    "anotherVariable = age"
   ]
  },
  {
   "cell_type": "markdown",
   "metadata": {
    "id": "ACopP92PXioX"
   },
   "source": [
    "## **Arithmetic operators in Python**\n",
    "\n",
    "Python has a number of arithmetic operators: +, -, *, / (division), % (remainder), ** (exponentiation) and // (floor division):"
   ]
  },
  {
   "cell_type": "code",
   "execution_count": 40,
   "metadata": {
    "id": "nQaWr9hqXlnx"
   },
   "outputs": [
    {
     "name": "stdout",
     "output_type": "stream",
     "text": [
      "2\n"
     ]
    }
   ],
   "source": [
    "1 + 1 #2\n",
    "2 - 1 #1\n",
    "2 * 2 #4\n",
    "4 / 2 #2\n",
    "4 % 3 #1\n",
    "4 ** 2 #16\n",
    "a= 5 // 2 #2\n",
    "print(a)"
   ]
  },
  {
   "cell_type": "markdown",
   "metadata": {
    "id": "bMeIQdohX2u4"
   },
   "source": [
    " (-) also works as a unary minus operator:"
   ]
  },
  {
   "cell_type": "code",
   "execution_count": 44,
   "metadata": {
    "id": "eNPzro3mX3_A"
   },
   "outputs": [
    {
     "name": "stdout",
     "output_type": "stream",
     "text": [
      "-4\n"
     ]
    }
   ],
   "source": [
    "print(-4) #-4"
   ]
  },
  {
   "cell_type": "markdown",
   "metadata": {
    "id": "8p5b-TZpX_CU"
   },
   "source": [
    "(+) is also used to concatenate String values:"
   ]
  },
  {
   "cell_type": "code",
   "execution_count": 45,
   "metadata": {
    "id": "DdvYdnW5YCoW"
   },
   "outputs": [
    {
     "data": {
      "text/plain": [
       "'Roger is a good dog'"
      ]
     },
     "execution_count": 45,
     "metadata": {},
     "output_type": "execute_result"
    }
   ],
   "source": [
    "\"Roger\" + \" is a good dog\"\n",
    "#Roger is a good dog"
   ]
  },
  {
   "cell_type": "markdown",
   "metadata": {
    "id": "21VTXgnzYKY5"
   },
   "source": [
    "We can combine the assignment operator with arithmetic operators:\n",
    "\n",
    "- +=\n",
    "- -=\n",
    "- *=\n",
    "- /=\n",
    "- %="
   ]
  },
  {
   "cell_type": "code",
   "execution_count": 46,
   "metadata": {
    "id": "fOkLzuVrYXdy"
   },
   "outputs": [],
   "source": [
    "age = 8\n",
    "age += 1\n",
    "# age is now 9"
   ]
  },
  {
   "cell_type": "markdown",
   "metadata": {
    "id": "1vaweZjCYYjM"
   },
   "source": [
    "## **Comparison operators in Python**\n",
    "\n",
    "Python defines a few comparison operators:\n",
    "\n",
    "- ==\n",
    "- !=\n",
    "- <\n",
    "- <=\n",
    "\n",
    "You can use those operators to get a boolean value (True or False) depending on the result:"
   ]
  },
  {
   "cell_type": "code",
   "execution_count": 50,
   "metadata": {
    "id": "LhfTwzcWYxlJ"
   },
   "outputs": [
    {
     "data": {
      "text/plain": [
       "True"
      ]
     },
     "execution_count": 50,
     "metadata": {},
     "output_type": "execute_result"
    }
   ],
   "source": [
    "a = 1\n",
    "b = 2\n",
    "\n",
    "a == b #False\n",
    "a != b #True\n",
    "a > b #False\n",
    "a <= b #True"
   ]
  },
  {
   "cell_type": "markdown",
   "metadata": {
    "id": "cEQovLr2Y7-Q"
   },
   "source": [
    "## **Boolean operators in Python**\n",
    "\n",
    "Python gives us the following boolean operators:"
   ]
  },
  {
   "cell_type": "code",
   "execution_count": 51,
   "metadata": {
    "id": "NR_Ra5DFY-a3"
   },
   "outputs": [
    {
     "data": {
      "text/plain": [
       "True"
      ]
     },
     "execution_count": 51,
     "metadata": {},
     "output_type": "execute_result"
    }
   ],
   "source": [
    "condition1 = True\n",
    "condition2 = False\n",
    "\n",
    "not condition1 #False\n",
    "condition1 and condition2 #False\n",
    "condition1 or condition2 #True"
   ]
  },
  {
   "cell_type": "markdown",
   "metadata": {
    "id": "Wm0AztbVZLGC"
   },
   "source": [
    "## **Bitwise operators in Python**\n",
    "\n",
    "Some operators are used to work on bits and binary numbers:\n",
    "\n",
    "- & performs binary AND\n",
    "- | performs binary OR\n",
    "- ^ performs a binary XOR operation\n",
    "- ~ performs a binary NOT operation\n",
    "- << shift left operation\n",
    "\n",
    "Bitwise operators are rarely used, only in very specific situations, but they are worth mentioning.\n",
    "\n",
    "##**'is' and 'in' in Python**\n",
    "\n",
    "is is called the identity operator. It is used to compare two objects and returns true if both are the same object. More on objects later.\n",
    "\n",
    "in is called the membership operator. Is used to tell if a value is contained in a list, or another sequence. More on lists and other sequences later."
   ]
  },
  {
   "cell_type": "markdown",
   "metadata": {
    "id": "oY8ZyCoAdk71"
   },
   "source": [
    "## **The Ternary Operator in Python**\n",
    "The ternary operator in Python allows you to quickly define a conditional.\n",
    "\n",
    "Let's say you have a function that compares an age variable to the 18 value, and returns True or False depending on the result.\n",
    "\n",
    "Instead of writing:"
   ]
  },
  {
   "cell_type": "code",
   "execution_count": 53,
   "metadata": {
    "id": "dwY1qjNldoKF"
   },
   "outputs": [],
   "source": []
  },
  {
   "cell_type": "markdown",
   "metadata": {
    "id": "iKu5Sxrydttd"
   },
   "source": [
    "You can implement it with the ternary operator in this way:\n",
    "\n"
   ]
  },
  {
   "cell_type": "code",
   "execution_count": 58,
   "metadata": {
    "id": "qR5hm64Hdu6j"
   },
   "outputs": [],
   "source": [
    "def gradeBook(marks):\n",
    "    if(marks < 50):\n",
    "        print(\"F\")\n",
    "    elif(marks>=50 and marks<=70):\n",
    "        print(\"C\")\n",
    "    elif(marks <= 85):\n",
    "        print(\"B\")\n",
    "    else:\n",
    "        print(\"A\")"
   ]
  },
  {
   "cell_type": "markdown",
   "metadata": {
    "id": "GLs46Kjkd9xI"
   },
   "source": [
    "## **Strings in Python**\n",
    "A string in Python is a series of characters enclosed in quotes or double quotes:"
   ]
  },
  {
   "cell_type": "code",
   "execution_count": 60,
   "metadata": {
    "id": "X6Zn2LeveAhf"
   },
   "outputs": [
    {
     "name": "stdout",
     "output_type": "stream",
     "text": [
      "C\n"
     ]
    }
   ],
   "source": [
    "gradeBook(50)\n"
   ]
  },
  {
   "cell_type": "markdown",
   "metadata": {
    "id": "qugCH1wKhJe_"
   },
   "source": [
    "You can concatenate two strings using the + operator:"
   ]
  },
  {
   "cell_type": "code",
   "execution_count": 61,
   "metadata": {
    "id": "UplivA4chKvW"
   },
   "outputs": [],
   "source": [
    "phrase = \"Roger\" + \" is a good dog\""
   ]
  },
  {
   "cell_type": "markdown",
   "metadata": {
    "id": "RqB1rOqVhNJw"
   },
   "source": [
    "You can append to a string using +=:"
   ]
  },
  {
   "cell_type": "code",
   "execution_count": 63,
   "metadata": {
    "id": "cyboO7dthQ2T"
   },
   "outputs": [
    {
     "name": "stdout",
     "output_type": "stream",
     "text": [
      "Roger is a good dog\n"
     ]
    }
   ],
   "source": [
    "name = \"Roger\"\n",
    "name += \" is a good dog\"\n",
    "\n",
    "print(name) #Roger is a good dog"
   ]
  },
  {
   "cell_type": "markdown",
   "metadata": {
    "id": "eoW8YYzchYgC"
   },
   "source": [
    "You can convert a number to a string using the str class constructor:"
   ]
  },
  {
   "cell_type": "code",
   "execution_count": 64,
   "metadata": {
    "id": "iftlZEZThZYt"
   },
   "outputs": [
    {
     "name": "stdout",
     "output_type": "stream",
     "text": [
      "Roger is 8 years old\n"
     ]
    }
   ],
   "source": [
    "print(\"Roger is \" + str(8) + \" years old\") #Roger is 8 years old"
   ]
  },
  {
   "cell_type": "code",
   "execution_count": null,
   "metadata": {},
   "outputs": [],
   "source": []
  },
  {
   "cell_type": "markdown",
   "metadata": {
    "id": "uPXbwZ-ZhiMD"
   },
   "source": [
    "A string can be multi-line when defined with a special syntax, enclosing the string in a set of 3 quotes:"
   ]
  },
  {
   "cell_type": "code",
   "execution_count": 65,
   "metadata": {
    "id": "ZfYyRhc_hjZ0"
   },
   "outputs": [
    {
     "name": "stdout",
     "output_type": "stream",
     "text": [
      "Roger is\n",
      "\n",
      "    8\n",
      "\n",
      "years old\n",
      "\n",
      "\n",
      "Roger is\n",
      "\n",
      "    8\n",
      "\n",
      "years old\n",
      "\n"
     ]
    }
   ],
   "source": [
    "print(\"\"\"Roger is\n",
    "\n",
    "    8\n",
    "\n",
    "years old\n",
    "\"\"\")\n",
    "\n",
    "#double quotes, or single quotes\n",
    "\n",
    "print('''\n",
    "Roger is\n",
    "\n",
    "    8\n",
    "\n",
    "years old\n",
    "''')"
   ]
  },
  {
   "cell_type": "markdown",
   "metadata": {
    "id": "MEhwL1INhzD5"
   },
   "source": [
    "A string has a set of built-in methods, like:\n",
    "\n",
    "* isalpha() to check if a string contains only characters and is not empty\n",
    "* isalnum() to check if a string contains characters or digits and is not empty\n",
    "* isdecimal() to check if a string contains digits and is not empty\n",
    "* lower() to get a lowercase version of a string\n",
    "* islower() to check if a string is lowercase\n",
    "* upper() to get an uppercase version of a string\n",
    "* isupper() to check if a string is uppercase\n",
    "* title() to get a capitalized version of a string\n",
    "* startsswith() to check if the string starts with a specific substring\n",
    "* endswith() to check if the string ends with a specific substring\n",
    "* replace() to replace a part of a string\n",
    "* split() to split a string on a specific character separator\n",
    "* strip() to trim the whitespace from a string\n",
    "* join() to append new letters to a string\n",
    "* find() to find the position of a substring\n",
    "and many more."
   ]
  },
  {
   "cell_type": "code",
   "execution_count": 130,
   "metadata": {
    "id": "BGWpGDOmiRJi"
   },
   "outputs": [],
   "source": [
    "name = \"DHA Suffa University\"\n",
    "\n",
    "rename = name.split(\" \")"
   ]
  },
  {
   "cell_type": "code",
   "execution_count": 148,
   "metadata": {},
   "outputs": [
    {
     "name": "stdout",
     "output_type": "stream",
     "text": [
      "Collecting termcolor\n",
      "  Downloading termcolor-2.3.0-py3-none-any.whl (6.9 kB)\n",
      "Installing collected packages: termcolor\n",
      "Successfully installed termcolor-2.3.0\n"
     ]
    }
   ],
   "source": [
    "!pip install termcolor"
   ]
  },
  {
   "cell_type": "code",
   "execution_count": 150,
   "metadata": {},
   "outputs": [
    {
     "name": "stdout",
     "output_type": "stream",
     "text": [
      "\u001b[31mZahid\u001b[0m\n"
     ]
    }
   ],
   "source": [
    "from termcolor import colored\n",
    "\n",
    "name = colored(\"Zahid\", \"red\")\n",
    "print(name)"
   ]
  },
  {
   "cell_type": "code",
   "execution_count": 158,
   "metadata": {},
   "outputs": [
    {
     "name": "stdout",
     "output_type": "stream",
     "text": [
      "Enter NameZahid Hussain\n",
      "Enter Course NameData Science\n",
      "Enter VenueSSUET\n",
      "Enter Time9-5PM\n",
      "\n",
      "            \u001b[34mHigh Impact Skills Bootcamp\u001b[0m\n",
      "            ______________________________________________\n",
      "            \n",
      "            \u001b[31mZahid Hussain\u001b[0m  : Zahid Hussain\n",
      "            \u001b[31mData Science\u001b[0m  : Data Science\n",
      "            \u001b[31mSSUET\u001b[0m  : SSUET\n",
      "            \u001b[31m9-5PM\u001b[0m  : 9-5PM\n",
      "    \n",
      "            \u001b[32mNote\u001b[0m: When found please return to SSUET\n",
      "\n",
      "\n"
     ]
    }
   ],
   "source": [
    "name = input(\"Enter Name\")\n",
    "course = input(\"Enter Course Name\")\n",
    "venue = input(\"Enter Venue\")\n",
    "time = input(\"Enter Time\")\n",
    "print(f\"\"\"\n",
    "            {colored(\"High Impact Skills Bootcamp\",\"blue\")}\n",
    "            ______________________________________________\n",
    "            \n",
    "            {colored(name,\"red\")}  : {name}\n",
    "            {colored(course,\"red\")}  : {course}\n",
    "            {colored(venue,\"red\")}  : {venue}\n",
    "            {colored(time,\"red\")}  : {time}\n",
    "    \n",
    "            {colored(\"Note\",\"green\")}: When found please return to SSUET\n",
    "\n",
    "\"\"\")"
   ]
  },
  {
   "cell_type": "code",
   "execution_count": 166,
   "metadata": {},
   "outputs": [
    {
     "data": {
      "text/plain": [
       "50"
      ]
     },
     "execution_count": 166,
     "metadata": {},
     "output_type": "execute_result"
    }
   ],
   "source": [
    "a=False\n",
    "b=50\n",
    "c=False\n",
    "a or b or c"
   ]
  },
  {
   "cell_type": "code",
   "execution_count": 168,
   "metadata": {},
   "outputs": [
    {
     "ename": "ValueError",
     "evalue": "math domain error",
     "output_type": "error",
     "traceback": [
      "\u001b[1;31m---------------------------------------------------------------------------\u001b[0m",
      "\u001b[1;31mValueError\u001b[0m                                Traceback (most recent call last)",
      "Cell \u001b[1;32mIn[168], line 3\u001b[0m\n\u001b[0;32m      1\u001b[0m \u001b[38;5;28;01mfrom\u001b[39;00m \u001b[38;5;21;01mmath\u001b[39;00m \u001b[38;5;28;01mimport\u001b[39;00m sqrt\n\u001b[0;32m      2\u001b[0m x \u001b[38;5;241m=\u001b[39m \u001b[38;5;241m-\u001b[39m\u001b[38;5;241m100\u001b[39m\n\u001b[1;32m----> 3\u001b[0m x\u001b[38;5;241m<\u001b[39m\u001b[38;5;241m0\u001b[39m \u001b[38;5;129;01mand\u001b[39;00m sqrt(x)\n",
      "\u001b[1;31mValueError\u001b[0m: math domain error"
     ]
    }
   ],
   "source": [
    "from math import sqrt\n",
    "x = -100\n",
    "x>0 and sqrt(x)"
   ]
  },
  {
   "cell_type": "code",
   "execution_count": 178,
   "metadata": {},
   "outputs": [
    {
     "name": "stdout",
     "output_type": "stream",
     "text": [
      "False\n"
     ]
    }
   ],
   "source": [
    "exp = not 4 + 9 - 7 * 8 / 7 and 25 * 1000\n",
    "print(exp)"
   ]
  },
  {
   "cell_type": "code",
   "execution_count": 131,
   "metadata": {},
   "outputs": [
    {
     "data": {
      "text/plain": [
       "'DHA Suffa University'"
      ]
     },
     "execution_count": 131,
     "metadata": {},
     "output_type": "execute_result"
    }
   ],
   "source": [
    "\n",
    "\" \".join(rename)"
   ]
  },
  {
   "cell_type": "code",
   "execution_count": 69,
   "metadata": {
    "id": "_W4oPVcHiTcE"
   },
   "outputs": [
    {
     "name": "stdout",
     "output_type": "stream",
     "text": [
      "5\n"
     ]
    }
   ],
   "source": [
    "name = \"Roger\"\n",
    "print(len(name)) #5"
   ]
  },
  {
   "cell_type": "markdown",
   "metadata": {
    "id": "T47sVKcXiafT"
   },
   "source": [
    "The in operator lets you check if a string contains a substring:"
   ]
  },
  {
   "cell_type": "code",
   "execution_count": 70,
   "metadata": {
    "id": "q0qUKEjwibZP"
   },
   "outputs": [
    {
     "name": "stdout",
     "output_type": "stream",
     "text": [
      "True\n"
     ]
    }
   ],
   "source": [
    "name = \"Roger\"\n",
    "print(\"ger\" in name) #True"
   ]
  },
  {
   "cell_type": "markdown",
   "metadata": {
    "id": "DsVf9Xkciiwn"
   },
   "source": [
    "Given a string, you can get its characters using square brackets to get a specific item, given its index, starting from 0:"
   ]
  },
  {
   "cell_type": "code",
   "execution_count": 90,
   "metadata": {
    "id": "ts0jICl2ijaM"
   },
   "outputs": [
    {
     "data": {
      "text/plain": [
       "'rabaB niassuH dihaZ'"
      ]
     },
     "execution_count": 90,
     "metadata": {},
     "output_type": "execute_result"
    }
   ],
   "source": [
    "name = \"Zahid Hussain Babar\"\n",
    "name[-1::-1] #'R'"
   ]
  },
  {
   "cell_type": "code",
   "execution_count": 105,
   "metadata": {},
   "outputs": [],
   "source": [
    "#Class Task\n",
    "list = [0,1,2,3,4,5,6,7,8,9,10]\n",
    "for i in list:\n",
    "    flag = 0\n",
    "    for j in range(2,i-1):\n",
    "        if(i%j==0):\n",
    "            flag=1\n",
    "            #print(list[i])\n",
    "            if(flag==0):\n",
    "                print(i)"
   ]
  },
  {
   "cell_type": "markdown",
   "metadata": {
    "id": "DkPmyqLbiurp"
   },
   "source": [
    "You can also use a range, using what we call slicing:"
   ]
  },
  {
   "cell_type": "code",
   "execution_count": 106,
   "metadata": {
    "id": "-UyGkLEjivdh"
   },
   "outputs": [
    {
     "data": {
      "text/plain": [
       "'ger'"
      ]
     },
     "execution_count": 106,
     "metadata": {},
     "output_type": "execute_result"
    }
   ],
   "source": [
    "name = \"Roger\"\n",
    "name[0:2] #\"Ro\"\n",
    "name[:2] #\"Ro\"\n",
    "name[2:] #\"ger\""
   ]
  },
  {
   "cell_type": "code",
   "execution_count": 118,
   "metadata": {},
   "outputs": [
    {
     "data": {
      "text/plain": [
       "True"
      ]
     },
     "execution_count": 118,
     "metadata": {},
     "output_type": "execute_result"
    }
   ],
   "source": [
    "city = \"Kararrrraaachihi\"\n",
    "\n",
    "city.count(\"r\")\n",
    "city.isalpha()"
   ]
  },
  {
   "cell_type": "markdown",
   "metadata": {
    "id": "VypqSL0yjDFW"
   },
   "source": [
    "## **Booleans in Python**\n",
    "Python provides the bool type, which can have two values: True and False (capitalized)."
   ]
  },
  {
   "cell_type": "code",
   "execution_count": null,
   "metadata": {
    "colab": {
     "base_uri": "https://localhost:8080/"
    },
    "executionInfo": {
     "elapsed": 328,
     "status": "ok",
     "timestamp": 1677949009011,
     "user": {
      "displayName": "Aniqa Hussain",
      "userId": "16017010323278953300"
     },
     "user_tz": -300
    },
    "id": "ZEwYokeAjGR4",
    "outputId": "3c00bdc5-b3a0-4e49-a2d3-22aa4be542ea"
   },
   "outputs": [
    {
     "name": "stdout",
     "output_type": "stream",
     "text": [
      "Hello\n"
     ]
    }
   ],
   "source": [
    "done = True\n",
    "\n",
    "if done:\n",
    "    print(\"Hello\")"
   ]
  },
  {
   "cell_type": "markdown",
   "metadata": {
    "id": "Ylz6YNVQjmte"
   },
   "source": [
    "The global any() function is also very useful when working with booleans, as it returns True if any of the values of the iterable (list, for example) passed as argument are True:"
   ]
  },
  {
   "cell_type": "code",
   "execution_count": null,
   "metadata": {
    "id": "XQVhWZbpjn7p"
   },
   "outputs": [],
   "source": [
    "book_1_read = True\n",
    "book_2_read = False\n",
    "\n",
    "read_any_book = any([book_1_read, book_2_read])"
   ]
  },
  {
   "cell_type": "markdown",
   "metadata": {
    "id": "7OU3E4C5jqii"
   },
   "source": [
    "The global all() function is same, but returns True if all of the values passed to it are True:"
   ]
  },
  {
   "cell_type": "code",
   "execution_count": null,
   "metadata": {
    "id": "9OhvJQEqjtuV"
   },
   "outputs": [],
   "source": [
    "ingredients_purchased = True\n",
    "meal_cooked = False\n",
    "\n",
    "ready_to_serve = all([ingredients_purchased, meal_cooked])"
   ]
  },
  {
   "cell_type": "markdown",
   "metadata": {
    "id": "V0NU3teJj2Kj"
   },
   "source": [
    "## **Complex numbers in Python**\n",
    "Complex numbers are of type complex.\n",
    "\n",
    "You can define them using a value literal:"
   ]
  },
  {
   "cell_type": "code",
   "execution_count": null,
   "metadata": {
    "id": "hg-rsoECj4co"
   },
   "outputs": [],
   "source": [
    "complexNumber = 2+3j"
   ]
  },
  {
   "cell_type": "markdown",
   "metadata": {
    "id": "NQzCbct9j6pC"
   },
   "source": [
    "or using the complex() constructor:"
   ]
  },
  {
   "cell_type": "code",
   "execution_count": null,
   "metadata": {
    "id": "LBHr4FqWj9k6"
   },
   "outputs": [],
   "source": [
    "complexNumber = complex(2, 3)"
   ]
  },
  {
   "cell_type": "markdown",
   "metadata": {
    "id": "lelUU79TkFQT"
   },
   "source": [
    "Once you have a complex number, you can get its real and imaginary part:"
   ]
  },
  {
   "cell_type": "code",
   "execution_count": null,
   "metadata": {
    "id": "teLuVTiPkGfu"
   },
   "outputs": [],
   "source": [
    "complexNumber.real #2.0\n",
    "complexNumber.imag #3.0"
   ]
  },
  {
   "cell_type": "markdown",
   "metadata": {
    "id": "xmYd4Gbckari"
   },
   "source": [
    "## **Built-in Functions in Python**\n",
    "There are 2 built-in functions that help with numbers:\n",
    "\n",
    "abs() returns the absolute value of a number.\n",
    "\n",
    "round() given a number, returns its value rounded to the nearest integer.\n",
    "You can specify a second parameter to set the decimal point's precision."
   ]
  },
  {
   "cell_type": "code",
   "execution_count": null,
   "metadata": {
    "id": "qVbtXHAIkeQv"
   },
   "outputs": [],
   "source": [
    "round(0.12, 1) #0.1"
   ]
  },
  {
   "cell_type": "markdown",
   "metadata": {
    "id": "3YL5xux5kshb"
   },
   "source": [
    "Several other math utility functions and constants are provided by the Python standard library:\n",
    "\n",
    "* the math package provides general math functions and constants\n",
    "* the cmath package provides utilities to work with complex numbers.\n",
    "* the decimal package provides utilities to work with decimals and floating point numbers.\n",
    "* the fractions package provides utilities to work with rational numbers.\n",
    "\n",
    "## **Constants in Python**\n",
    "Python has no way to enforce that a variable should be a constant.\n",
    "\n",
    "The nearest you can get is to use an enum:"
   ]
  },
  {
   "cell_type": "code",
   "execution_count": null,
   "metadata": {
    "id": "LXUJcwEwlAJW"
   },
   "outputs": [],
   "source": [
    "class Constants(Enum):\n",
    "    WIDTH = 1024\n",
    "    HEIGHT = 256"
   ]
  },
  {
   "cell_type": "markdown",
   "metadata": {
    "id": "fykdBgZjlJDb"
   },
   "source": [
    "And get to each value using, for example, Constants.WIDTH.value.\n",
    "\n",
    "No one can reassign that value.\n",
    "\n",
    "## **Enums in Python**\n",
    "Enums are readable names that are bound to a constant value.\n",
    "\n",
    "To use enums, import Enum from the enum standard library module.\n",
    "Then you can initialize a new enum in this way."
   ]
  },
  {
   "cell_type": "code",
   "execution_count": null,
   "metadata": {
    "id": "XWkLi09wldf5"
   },
   "outputs": [],
   "source": [
    "from enum import Enum\n",
    "class State(Enum):\n",
    "    INACTIVE = 0\n",
    "    ACTIVE = 1"
   ]
  },
  {
   "cell_type": "markdown",
   "metadata": {
    "id": "8_XAS4Xll1P9"
   },
   "source": [
    "Once you do so, you can reference State.INACTIVE and State.ACTIVE, and they serve as constants.\n",
    "\n",
    "Now if you try to print State.ACTIVE for example:"
   ]
  },
  {
   "cell_type": "code",
   "execution_count": null,
   "metadata": {
    "id": "XIgfO4Mgl3XK"
   },
   "outputs": [],
   "source": [
    "print(State.ACTIVE)"
   ]
  },
  {
   "cell_type": "markdown",
   "metadata": {
    "id": "qTHodXlPl6ew"
   },
   "source": [
    "it will not return 1, but State.ACTIVE.\n",
    "\n",
    "The same value can be reached by the number assigned in the enum: print(State(1)) will return State.ACTIVE. Same for using the square brackets notation State['ACTIVE'].\n",
    "\n",
    "You can, however, get the value using State.ACTIVE.value.\n",
    "You can list all the possible values of an enum:\n",
    "\n"
   ]
  },
  {
   "cell_type": "code",
   "execution_count": null,
   "metadata": {
    "id": "wuswqg4mmGHN"
   },
   "outputs": [],
   "source": [
    "list(State) # [<State.INACTIVE: 0>, <State.ACTIVE: 1>]"
   ]
  },
  {
   "cell_type": "markdown",
   "metadata": {
    "id": "HO2PpwVYmJCO"
   },
   "source": [
    "You can count them:"
   ]
  },
  {
   "cell_type": "code",
   "execution_count": null,
   "metadata": {
    "id": "TXGspqzrmKoI"
   },
   "outputs": [],
   "source": [
    "len(State) #2"
   ]
  },
  {
   "cell_type": "markdown",
   "metadata": {
    "id": "YYIDI6AWmatz"
   },
   "source": [
    "## **User Input in Python**\n",
    "In a Python command line application you can display information to the user using the print() function.\n",
    "We can also accept input from the user, using input()."
   ]
  },
  {
   "cell_type": "code",
   "execution_count": null,
   "metadata": {
    "id": "OeODtn1hmjty"
   },
   "outputs": [],
   "source": [
    "print('What is your age?')\n",
    "age = input()\n",
    "print('Your age is ' + age)\n"
   ]
  },
  {
   "cell_type": "markdown",
   "metadata": {
    "id": "jNBjDDR10-f0"
   },
   "source": [
    "## **Control Statements in Python**\n",
    "When you're dealing with booleans, and expressions that return a boolean in particular, we can make decisions and take different roads depending on their True or False values.\n",
    "\n",
    "In Python we do so using the if statement:"
   ]
  },
  {
   "cell_type": "code",
   "execution_count": null,
   "metadata": {
    "id": "fNvFz9AT1DDF"
   },
   "outputs": [],
   "source": [
    "condition = True\n",
    "\n",
    "if condition == True:\n",
    "    print(\"The condition\")\n",
    "    print(\"was True\")\n",
    "else:\n",
    "    print(\"The condition\")\n",
    "    print(\"was False\")"
   ]
  },
  {
   "cell_type": "markdown",
   "metadata": {
    "id": "5V1J91wq1Xxk"
   },
   "source": [
    "And you can have different linked if checks with elif that's executed if the previous check was False:"
   ]
  },
  {
   "cell_type": "code",
   "execution_count": null,
   "metadata": {
    "id": "4xzxoY1G1aag"
   },
   "outputs": [],
   "source": [
    "condition = True\n",
    "name = \"Roger\"\n",
    "\n",
    "if condition == True:\n",
    "    print(\"The condition\")\n",
    "    print(\"was True\")\n",
    "elif name == \"Roger\":\n",
    "    print(\"Hello Roger\")\n",
    "else:\n",
    "    print(\"The condition\")\n",
    "    print(\"was False\")"
   ]
  },
  {
   "cell_type": "markdown",
   "metadata": {
    "id": "2uHzw9WR1mJs"
   },
   "source": [
    "## **Lists in Python**\n",
    "Lists are an essential Python data structure.\n",
    "\n",
    "The allow you to group together multiple values and reference them all with a common name.\n",
    "\n",
    "For example:"
   ]
  },
  {
   "cell_type": "code",
   "execution_count": null,
   "metadata": {
    "id": "hiUmsClF1o7H"
   },
   "outputs": [],
   "source": [
    "dogs = [\"Roger\", \"Syd\"]"
   ]
  },
  {
   "cell_type": "markdown",
   "metadata": {
    "id": "OKZ2046L1szW"
   },
   "source": [
    "A list can hold values of different types:"
   ]
  },
  {
   "cell_type": "code",
   "execution_count": null,
   "metadata": {
    "id": "jMqE4s9A1xyp"
   },
   "outputs": [],
   "source": [
    "items = [\"Roger\", 1, \"Syd\", True]"
   ]
  },
  {
   "cell_type": "markdown",
   "metadata": {
    "id": "dqwucYP-17F1"
   },
   "source": [
    "You can add items to the list by using a list append() method:"
   ]
  },
  {
   "cell_type": "code",
   "execution_count": null,
   "metadata": {
    "id": "ZeRI6D5j178a"
   },
   "outputs": [],
   "source": [
    "items.append(\"Test\")"
   ]
  },
  {
   "cell_type": "markdown",
   "metadata": {
    "id": "0r_6JDJL2Dno"
   },
   "source": [
    "Remove an item using the remove() method:"
   ]
  },
  {
   "cell_type": "code",
   "execution_count": null,
   "metadata": {
    "id": "qdPG4PP92FBF"
   },
   "outputs": [],
   "source": [
    "items.remove(\"Test\")"
   ]
  },
  {
   "cell_type": "markdown",
   "metadata": {
    "id": "uBSH5_SD2Kv5"
   },
   "source": [
    "To add an item in the middle of a list, at a specific index, use the insert() method:"
   ]
  },
  {
   "cell_type": "code",
   "execution_count": null,
   "metadata": {
    "id": "ZCo1oc7G2MgA"
   },
   "outputs": [],
   "source": [
    "items.insert(\"Test\", 1) # add \"Test\" at index 1"
   ]
  },
  {
   "cell_type": "markdown",
   "metadata": {
    "id": "6ou1gb5T2S2l"
   },
   "source": [
    "Sort a list using the sort() method:"
   ]
  },
  {
   "cell_type": "code",
   "execution_count": null,
   "metadata": {
    "id": "1G5zuyPX2ZZ3"
   },
   "outputs": [],
   "source": [
    "items.sort()"
   ]
  },
  {
   "cell_type": "markdown",
   "metadata": {
    "id": "H2fYNaBa2nuc"
   },
   "source": [
    "## **Tuples in Python**\n",
    "Tuples are another fundamental Python data structure.\n",
    "\n",
    "They allow you to create immutable groups of objects. This means that once a tuple is created, it can't be modified. You can't add or remove items.\n",
    "\n",
    "They are created in a way similar to lists, but using parentheses instead of square brackets:"
   ]
  },
  {
   "cell_type": "code",
   "execution_count": null,
   "metadata": {
    "id": "bG_lcyXu2rQ5"
   },
   "outputs": [],
   "source": [
    "names = (\"Roger\", \"Syd\")"
   ]
  },
  {
   "cell_type": "markdown",
   "metadata": {
    "id": "e155jBUy20w_"
   },
   "source": [
    "A tuple is ordered, like a list, so you can get its values by referencing an index value:"
   ]
  },
  {
   "cell_type": "code",
   "execution_count": null,
   "metadata": {
    "id": "yAb8J_SN21_V"
   },
   "outputs": [],
   "source": [
    "names = (\"Roger\", \"Syd\")\n",
    "names.index('Roger') # 0\n",
    "names.index('Syd')   # 1\n"
   ]
  },
  {
   "cell_type": "markdown",
   "metadata": {
    "id": "SpNXQ37W2-xm"
   },
   "source": [
    "You can count the items in a tuple with the len() function.\n",
    "\n",
    "You can check if an item is contained in a tuple with the 'in' operator.\n",
    "\n",
    "You can create a sorted version of a tuple using the sorted() global function."
   ]
  },
  {
   "cell_type": "code",
   "execution_count": null,
   "metadata": {
    "id": "B4j3obN_3Osg"
   },
   "outputs": [],
   "source": [
    "sorted(names)"
   ]
  },
  {
   "cell_type": "markdown",
   "metadata": {
    "id": "AR993saq3Qu6"
   },
   "source": [
    "You can create a new tuple from existing tuples using the + operator:"
   ]
  },
  {
   "cell_type": "code",
   "execution_count": null,
   "metadata": {
    "id": "_hzQo7th3T1o"
   },
   "outputs": [],
   "source": [
    "names = (\"Roger\", \"Syd\")\n",
    "newTuple = names + (\"Vanille\", \"Tina\")"
   ]
  },
  {
   "cell_type": "markdown",
   "metadata": {
    "id": "nV8vXf8nC5if"
   },
   "source": [
    "## **Dictionaries in Python**\n",
    "Dictionaries are a very important Python data structure.\n",
    "\n",
    "While lists allow you to create collections of values, dictionaries allow you to create collections of key / value pairs.\n",
    "\n",
    "Here is a dictionary example with one key/value pair:"
   ]
  },
  {
   "cell_type": "code",
   "execution_count": null,
   "metadata": {
    "id": "4DHq4wh7C92E"
   },
   "outputs": [],
   "source": [
    "dog = { 'name': 'Roger' }"
   ]
  },
  {
   "cell_type": "markdown",
   "metadata": {
    "id": "fJ8hxVfBDFMz"
   },
   "source": [
    "A dictionary can contain multiple key/value pairs:\n",
    "\n"
   ]
  },
  {
   "cell_type": "code",
   "execution_count": null,
   "metadata": {
    "id": "IDGhX1NFDGAp"
   },
   "outputs": [],
   "source": [
    "dog = { 'name': 'Roger', 'age': 8 }"
   ]
  },
  {
   "cell_type": "markdown",
   "metadata": {
    "id": "2WzFGi05DIvO"
   },
   "source": [
    "You can access individual key values using this notation:"
   ]
  },
  {
   "cell_type": "code",
   "execution_count": null,
   "metadata": {
    "id": "zmx_kzAODKtL"
   },
   "outputs": [],
   "source": [
    "dog['name'] # 'Roger'\n",
    "dog['age']  # 8"
   ]
  },
  {
   "cell_type": "markdown",
   "metadata": {
    "id": "4OQFGUHBDf1J"
   },
   "source": [
    "## **Sets in Python**\n",
    "Sets are another important Python data structure.\n",
    "\n",
    "We can say they work like tuples, but they are not ordered, and they are mutable.\n",
    "\n",
    "Or we can say they work like dictionaries, but they don't have keys.\n",
    "\n",
    "They also have an immutable version, called frozenset.\n",
    "\n",
    "You can create a set using this syntax:"
   ]
  },
  {
   "cell_type": "code",
   "execution_count": null,
   "metadata": {
    "id": "IaCUHGt9Dmc2"
   },
   "outputs": [],
   "source": [
    "names = {\"Roger\", \"Syd\"}"
   ]
  },
  {
   "cell_type": "markdown",
   "metadata": {
    "id": "WzuJLZekDtZ4"
   },
   "source": [
    "Sets work well when you think about them as mathematical sets.\n",
    "\n",
    "You can intersect two sets and union two sets"
   ]
  },
  {
   "cell_type": "code",
   "execution_count": null,
   "metadata": {
    "id": "w8Xq9_nTDxnW"
   },
   "outputs": [],
   "source": [
    "set1 = {\"Roger\", \"Syd\"}\n",
    "set2 = {\"Roger\"}\n",
    "\n",
    "intersect = set1 & set2 #{'Roger'}\n",
    "union = set1 | set2\n",
    "#{'Syd', 'Roger'}"
   ]
  },
  {
   "cell_type": "markdown",
   "metadata": {
    "id": "R5df72q8EBVp"
   },
   "source": [
    "## **Functions in Python**\n",
    "A function lets us create a set of instructions that we can run when needed.\n",
    "\n",
    "Functions are essential in Python and in many other programming languages. They help us create meaningful programs, because they allow us to decompose a program into manageable parts, and they promote readability and code reuse.\n",
    "\n",
    "Here is an example function called hello that prints \"Hello!\":"
   ]
  },
  {
   "cell_type": "code",
   "execution_count": null,
   "metadata": {
    "id": "QAXHApJWEUVy"
   },
   "outputs": [],
   "source": [
    "def hello():\n",
    "    print('Hello!')"
   ]
  },
  {
   "cell_type": "markdown",
   "metadata": {
    "id": "woPjBKceEVG6"
   },
   "source": [
    "This is the function definition. Thereis a name (hello) and a body, the set of instructions, which is the part that follows the colon. It's indented one level on the right.\n",
    "\n",
    "To run this function, we must call it. This is the syntax to call the function:"
   ]
  },
  {
   "cell_type": "code",
   "execution_count": null,
   "metadata": {
    "id": "NuadaRW4EY5y"
   },
   "outputs": [],
   "source": [
    "hello()"
   ]
  },
  {
   "cell_type": "markdown",
   "metadata": {
    "id": "ch-8WAuEEl7X"
   },
   "source": [
    "A function can accept one or more parameters:"
   ]
  },
  {
   "cell_type": "code",
   "execution_count": null,
   "metadata": {
    "id": "GOhj3qqLEnYB"
   },
   "outputs": [],
   "source": [
    "def hello(name):\n",
    "    print('Hello ' + name + '!')\n",
    "\n",
    "hello('Roger')"
   ]
  },
  {
   "cell_type": "markdown",
   "metadata": {
    "id": "PqpQ4AlBE4xW"
   },
   "source": [
    "An argument can have a default value that's applied if the argument is not specified:"
   ]
  },
  {
   "cell_type": "code",
   "execution_count": null,
   "metadata": {
    "id": "6A6ktQSME5gl"
   },
   "outputs": [],
   "source": [
    "def hello(name='my friend'):\n",
    "    print('Hello ' + name + '!')\n",
    "\n",
    "hello()\n",
    "#Hello my friend!"
   ]
  },
  {
   "cell_type": "markdown",
   "metadata": {
    "id": "Q-RpU6RiE_3J"
   },
   "source": [
    "Here's how we can accept multiple parameters:"
   ]
  },
  {
   "cell_type": "code",
   "execution_count": null,
   "metadata": {
    "id": "5xUGgT-uFB1k"
   },
   "outputs": [],
   "source": [
    "def hello(name, age):\n",
    "    print('Hello ' + name + ', you are ' + str(age) + ' years old!')\n",
    "\n",
    "hello('Roger', 8)"
   ]
  },
  {
   "cell_type": "markdown",
   "metadata": {
    "id": "3uLuy2BzLauC"
   },
   "source": [
    "## **Objects in Python**\n",
    "Everything in Python is an object.\n",
    "\n",
    "Even values of basic primitive types (integer, string, float..) are objects. Lists are objects, as are tuples, dictionaries, everything.\n",
    "\n",
    "Objects have attributes and methods that can be accessed using the dot syntax.\n",
    "\n",
    "For example, try defining a new variable of type int:"
   ]
  },
  {
   "cell_type": "code",
   "execution_count": null,
   "metadata": {
    "id": "oxjhexOxMBJY"
   },
   "outputs": [],
   "source": [
    "age = 8"
   ]
  },
  {
   "cell_type": "markdown",
   "metadata": {
    "id": "_Idmjqx9MFfx"
   },
   "source": [
    "age now has access to the properties and methods defined for all int objects.\n",
    "\n",
    "This includes, for example, access to the real and imaginary part of that number:"
   ]
  },
  {
   "cell_type": "code",
   "execution_count": null,
   "metadata": {
    "id": "rtnviut3MLTr"
   },
   "outputs": [],
   "source": [
    "print(age.real) # 8\n",
    "print(age.imag) # 0\n",
    "\n",
    "print(age.bit_length()) #4"
   ]
  },
  {
   "cell_type": "markdown",
   "metadata": {
    "id": "_BKGRhz2MfoS"
   },
   "source": [
    "The id() global function provided by Python lets you inspect the location in memory for a particular object."
   ]
  },
  {
   "cell_type": "code",
   "execution_count": null,
   "metadata": {
    "id": "j5nGM7S_Mg55"
   },
   "outputs": [],
   "source": [
    "id(age) # 140170065725376"
   ]
  },
  {
   "cell_type": "markdown",
   "metadata": {
    "id": "CzRLVa3vMvV9"
   },
   "source": [
    "## **Loops in Python**\n",
    "Loops are one essential part of programming.\n",
    "\n",
    "In Python we have 2 kinds of loops: while loops and for loops.\n",
    "\n",
    "# **while loops in Python**\n",
    " while loops are defined using the while keyword, and they repeat their block until the condition is evaluated as False:"
   ]
  },
  {
   "cell_type": "code",
   "execution_count": null,
   "metadata": {
    "id": "Vm4crS4HM8HT"
   },
   "outputs": [],
   "source": [
    "count = 0\n",
    "while count < 10:\n",
    "    print(\"The condition is True\")\n",
    "    count = count + 1\n",
    "\n",
    "print(\"After the loop\")\n"
   ]
  },
  {
   "cell_type": "markdown",
   "metadata": {
    "id": "ebEBfoKoNRxO"
   },
   "source": [
    "# **for loops in Python**\n",
    "Using for loops we can tell Python to execute a block for a pre-determined amount of times, up front, and without the need of a separate variable and conditional to check its value.\n",
    "\n",
    "For example we can iterate the items in a list:"
   ]
  },
  {
   "cell_type": "code",
   "execution_count": null,
   "metadata": {
    "id": "I-XI992HNhy6"
   },
   "outputs": [],
   "source": [
    "items = [1, 2, 3, 4]\n",
    "for item in items:\n",
    "    print(item)"
   ]
  },
  {
   "cell_type": "markdown",
   "metadata": {
    "id": "XuOLymKCOD5Q"
   },
   "source": [
    "## **Break and continue in Python**\n",
    "Both while and for loops can be interrupted inside the block, using two special keywords: break and continue.\n",
    "\n",
    "continue stops the current iteration and tells Python to execute the next one.\n",
    "\n",
    "break stops the loop altogether, and goes on with the next instruction after the loop ends.\n",
    "\n",
    "The first example here prints 1, 3, 4. The second example prints 1:"
   ]
  },
  {
   "cell_type": "code",
   "execution_count": null,
   "metadata": {
    "id": "CVgrqJrFOGQp"
   },
   "outputs": [],
   "source": [
    "items = [1, 2, 3, 4]\n",
    "for item in items:\n",
    "    if item == 2:\n",
    "        continue\n",
    "    print(item)"
   ]
  },
  {
   "cell_type": "code",
   "execution_count": null,
   "metadata": {
    "id": "bTy4CVzJOJlA"
   },
   "outputs": [],
   "source": [
    "items = [1, 2, 3, 4]\n",
    "for item in items:\n",
    "    if item == 2:\n",
    "        break\n",
    "    print(item)"
   ]
  },
  {
   "cell_type": "markdown",
   "metadata": {
    "id": "WWEtSpY1OMW4"
   },
   "source": [
    "## **Classes in Python**\n",
    "In addition to using the Python-provided types, we can declare our own classes, and from classes we can instantiate objects.\n",
    "\n",
    "An object is an instance of a class. A class is the type of an object.\n",
    "\n",
    "We can define a class in this way"
   ]
  },
  {
   "cell_type": "code",
   "execution_count": null,
   "metadata": {
    "id": "paXKh9JKOScG"
   },
   "outputs": [],
   "source": [
    "class <class_name>:\n",
    "    # my class"
   ]
  },
  {
   "cell_type": "markdown",
   "metadata": {
    "id": "Xt-1WtGiObah"
   },
   "source": [
    "A class can define methods:"
   ]
  },
  {
   "cell_type": "code",
   "execution_count": null,
   "metadata": {
    "id": "6E4WCJ8LOcb4"
   },
   "outputs": [],
   "source": [
    " class Dog:\n",
    "    # the Dog class\n",
    "    def bark(self):\n",
    "        print('WOF!')"
   ]
  },
  {
   "cell_type": "markdown",
   "metadata": {
    "id": "2lDRthqLOl-O"
   },
   "source": [
    "***self*** as the argument of the method points to the current object instance, and must be specified when defining a method.\n",
    "\n",
    "We create an instance of a class, an object, using this syntax:"
   ]
  },
  {
   "cell_type": "code",
   "execution_count": null,
   "metadata": {
    "id": "DcCjo5D8OqeY"
   },
   "outputs": [],
   "source": [
    "roger = Dog()"
   ]
  },
  {
   "cell_type": "markdown",
   "metadata": {
    "id": "G6y2bHn5Ozhd"
   },
   "source": [
    "Now roger is a new object of type Dog.\n",
    "\n",
    "If you run"
   ]
  },
  {
   "cell_type": "code",
   "execution_count": null,
   "metadata": {
    "id": "AAzNBCvpO0F2"
   },
   "outputs": [],
   "source": [
    "print(type(roger))"
   ]
  },
  {
   "cell_type": "markdown",
   "metadata": {
    "id": "Z7ydDr9rO3sl"
   },
   "source": [
    "You will get <class '__main__.Dog'>\n",
    "\n",
    "A special type of method, __init__() is called constructor, and we can use it to initialize one or more properties when we create a new object from that class:"
   ]
  },
  {
   "cell_type": "code",
   "execution_count": null,
   "metadata": {
    "id": "bPpBSD5bPCxl"
   },
   "outputs": [],
   "source": [
    "class Dog:\n",
    "    # the Dog class\n",
    "    def __init__(self, name, age):\n",
    "        self.name = name\n",
    "        self.age = age\n",
    "\n",
    "    def bark(self):\n",
    "        print('WOF!')"
   ]
  },
  {
   "cell_type": "markdown",
   "metadata": {
    "id": "xCMGMXyZPHP6"
   },
   "source": [
    "We use it in this way"
   ]
  },
  {
   "cell_type": "code",
   "execution_count": null,
   "metadata": {
    "id": "FUCxcAz0PQCV"
   },
   "outputs": [],
   "source": [
    "roger = Dog('Roger', 8)\n",
    "print(roger.name) # 'Roger'\n",
    "print(roger.age)  # 8\n",
    "\n",
    "roger.bark() # 'WOF!'"
   ]
  },
  {
   "cell_type": "markdown",
   "metadata": {
    "id": "hIL25VcBPa5D"
   },
   "source": [
    "One important feature of classes is inheritance.\n",
    "\n",
    "We can create an Animal class with a method walk():"
   ]
  },
  {
   "cell_type": "code",
   "execution_count": null,
   "metadata": {
    "id": "I-ahpQvHPcV3"
   },
   "outputs": [],
   "source": [
    "class Animal:\n",
    "    def walk(self):\n",
    "        print('Walking..')"
   ]
  },
  {
   "cell_type": "markdown",
   "metadata": {
    "id": "7p0o75mmPfEb"
   },
   "source": [
    "and the Dog class can inherit from Animal:"
   ]
  },
  {
   "cell_type": "code",
   "execution_count": null,
   "metadata": {
    "id": "SGtkT877Pin3"
   },
   "outputs": [],
   "source": [
    "class Dog(Animal):\n",
    "    def bark(self):\n",
    "        print('WOF!')"
   ]
  },
  {
   "cell_type": "markdown",
   "metadata": {
    "id": "EGo9YySuPtIv"
   },
   "source": [
    "Now creating a new object of class Dog will have the walk() method as that's inherited from Animal:"
   ]
  },
  {
   "cell_type": "code",
   "execution_count": null,
   "metadata": {
    "id": "sZsAAPzRPwGy"
   },
   "outputs": [],
   "source": [
    "roger = Dog()\n",
    "roger.walk() # 'Walking..'\n",
    "roger.bark() # 'WOF!'"
   ]
  },
  {
   "cell_type": "markdown",
   "metadata": {
    "id": "xaKU9zZrFMm8"
   },
   "source": [
    "## **Lab Task:**\n",
    "\n",
    "1. You are required to implement all the examples mentioned in the lab manual.\n",
    "2. Python Program that generate a set of prime numbers and another set of even numbers. Demonstrate the result of union, intersection, difference and symmetirc difference operations implement using classes."
   ]
  },
  {
   "cell_type": "markdown",
   "metadata": {
    "id": "goXY6jzSGxy3"
   },
   "source": [
    "## **Lab Assignment:**\n",
    "Q1) Write a program to achieve the following output?\n",
    "\n",
    "![1.PNG](data:image/png;base64,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)"
   ]
  },
  {
   "cell_type": "markdown",
   "metadata": {
    "id": "_Pk-VCVppJIw"
   },
   "source": [
    "Q2) Create the following tree and print inorder, postorder and preorder traversal?\n",
    "\n",
    "![2.PNG](data:image/png;base64,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)\n",
    "\n"
   ]
  },
  {
   "cell_type": "markdown",
   "metadata": {
    "id": "wzWF5D-Plv2o"
   },
   "source": [
    "Note: Use of class and objects is compulsory for every assignment question."
   ]
  },
  {
   "cell_type": "markdown",
   "metadata": {
    "id": "7sMVSWrVI93R"
   },
   "source": [
    "## **Submission Guidelines**\n",
    "\n",
    "1. Submit a pdf having the screenshots of your source code and output properly labeled with your roll number.\n",
    "\n",
    "2. Upload it on lms."
   ]
  }
 ],
 "metadata": {
  "colab": {
   "provenance": []
  },
  "kernelspec": {
   "display_name": "Python 3 (ipykernel)",
   "language": "python",
   "name": "python3"
  },
  "language_info": {
   "codemirror_mode": {
    "name": "ipython",
    "version": 3
   },
   "file_extension": ".py",
   "mimetype": "text/x-python",
   "name": "python",
   "nbconvert_exporter": "python",
   "pygments_lexer": "ipython3",
   "version": "3.11.3"
  }
 },
 "nbformat": 4,
 "nbformat_minor": 1
}
